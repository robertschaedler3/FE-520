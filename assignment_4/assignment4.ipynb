{
 "nbformat": 4,
 "nbformat_minor": 2,
 "metadata": {
  "language_info": {
   "name": "python",
   "codemirror_mode": {
    "name": "ipython",
    "version": 3
   },
   "version": "3.7.6-final"
  },
  "orig_nbformat": 2,
  "file_extension": ".py",
  "mimetype": "text/x-python",
  "name": "python",
  "npconvert_exporter": "python",
  "pygments_lexer": "ipython3",
  "version": 3,
  "kernelspec": {
   "name": "python37664bitc780e80d00ea4915b6d67011efc4304c",
   "display_name": "Python 3.7.6 64-bit"
  }
 },
 "cells": [
  {
   "cell_type": "code",
   "execution_count": 12,
   "metadata": {},
   "outputs": [],
   "source": [
    "import pandas as pd"
   ]
  },
  {
   "cell_type": "code",
   "execution_count": 13,
   "metadata": {},
   "outputs": [],
   "source": [
    "df = pd.read_csv('./res_purchase_2014.csv', delimiter=',')"
   ]
  },
  {
   "cell_type": "code",
   "execution_count": 14,
   "metadata": {},
   "outputs": [
    {
     "output_type": "execute_result",
     "data": {
      "text/plain": "        Year-Month  Agency Number                Agency Name  \\\n0           201307           1000  OKLAHOMA STATE UNIVERSITY   \n1           201307           1000  OKLAHOMA STATE UNIVERSITY   \n2           201307           1000  OKLAHOMA STATE UNIVERSITY   \n3           201307           1000  OKLAHOMA STATE UNIVERSITY   \n4           201307           1000  OKLAHOMA STATE UNIVERSITY   \n...            ...            ...                        ...   \n442452      201406          98000      GRAND RIVER DAM AUTH.   \n442453      201406          98000      GRAND RIVER DAM AUTH.   \n442454      201406          98000      GRAND RIVER DAM AUTH.   \n442455      201406          98000      GRAND RIVER DAM AUTH.   \n442456      201406          98000      GRAND RIVER DAM AUTH.   \n\n       Cardholder Last Name Cardholder First Initial  \\\n0                     Mason                        C   \n1                     Mason                        C   \n2                    Massey                        J   \n3                    Massey                        T   \n4             Mauro-Herrera                        M   \n...                     ...                      ...   \n442452           Cardholder                        e   \n442453           Cardholder                        e   \n442454           Cardholder                        e   \n442455           Cardholder                        e   \n442456           Cardholder                        e   \n\n                         Description   Amount                     Vendor  \\\n0                   GENERAL PURCHASE      890                      NACAS   \n1                       ROOM CHARGES   368.96             SHERATON HOTEL   \n2                   GENERAL PURCHASE   165.82             SEARS.COM 9300   \n3                   GENERAL PURCHASE    96.39             WAL-MART #0137   \n4       HAMMERMILL COPY PLUS COPY EA   125.96             STAPLES DIRECT   \n...                              ...      ...                        ...   \n442452              GENERAL PURCHASE      992        TOTAL VALVE SYSTEMS   \n442453              GENERAL PURCHASE     2415  PRYOR WASTE & RECYCLING L   \n442454              GENERAL PURCHASE    177.5  ACCURATE ENVIROMENTAL LAB   \n442455              GENERAL PURCHASE    32457        RED BUD SERVICE INC   \n442456              GENERAL PURCHASE  4714.07      WARRENCAT CREDIT DEPT   \n\n       Transaction Date     Posted Date  \\\n0        7/30/2013 0:00  7/31/2013 0:00   \n1        7/30/2013 0:00  7/31/2013 0:00   \n2        7/29/2013 0:00  7/31/2013 0:00   \n3        7/30/2013 0:00  7/31/2013 0:00   \n4        7/30/2013 0:00  7/31/2013 0:00   \n...                 ...             ...   \n442452   6/20/2014 0:00  6/23/2014 0:00   \n442453   6/20/2014 0:00  6/23/2014 0:00   \n442454   6/20/2014 0:00  6/23/2014 0:00   \n442455   6/19/2014 0:00  6/23/2014 0:00   \n442456   6/20/2014 0:00  6/23/2014 0:00   \n\n                             Merchant Category Code (MCC)  \n0             CHARITABLE AND SOCIAL SERVICE ORGANIZATIONS  \n1                                                SHERATON  \n2       DIRCT MARKETING/DIRCT MARKETERS--NOT ELSEWHERE...  \n3                         GROCERY STORES,AND SUPERMARKETS  \n4       STATIONERY, OFFICE SUPPLIES, PRINTING AND WRIT...  \n...                                                   ...  \n442452                    HARDWARE EQUIPMENT AND SUPPLIES  \n442453            UTILITIES - ELECTRIC,GAS,WATER,SANITARY  \n442454         BUSINESS SERVICES NOT ELSEWHERE CLASSIFIED  \n442455     PROFESSIONAL SERVICES NOT ELSEWHERE CLASSIFIED  \n442456          MISCELLANEOUS AND SPECIALTY RETAIL STORES  \n\n[442457 rows x 11 columns]",
      "text/html": "<div>\n<style scoped>\n    .dataframe tbody tr th:only-of-type {\n        vertical-align: middle;\n    }\n\n    .dataframe tbody tr th {\n        vertical-align: top;\n    }\n\n    .dataframe thead th {\n        text-align: right;\n    }\n</style>\n<table border=\"1\" class=\"dataframe\">\n  <thead>\n    <tr style=\"text-align: right;\">\n      <th></th>\n      <th>Year-Month</th>\n      <th>Agency Number</th>\n      <th>Agency Name</th>\n      <th>Cardholder Last Name</th>\n      <th>Cardholder First Initial</th>\n      <th>Description</th>\n      <th>Amount</th>\n      <th>Vendor</th>\n      <th>Transaction Date</th>\n      <th>Posted Date</th>\n      <th>Merchant Category Code (MCC)</th>\n    </tr>\n  </thead>\n  <tbody>\n    <tr>\n      <th>0</th>\n      <td>201307</td>\n      <td>1000</td>\n      <td>OKLAHOMA STATE UNIVERSITY</td>\n      <td>Mason</td>\n      <td>C</td>\n      <td>GENERAL PURCHASE</td>\n      <td>890</td>\n      <td>NACAS</td>\n      <td>7/30/2013 0:00</td>\n      <td>7/31/2013 0:00</td>\n      <td>CHARITABLE AND SOCIAL SERVICE ORGANIZATIONS</td>\n    </tr>\n    <tr>\n      <th>1</th>\n      <td>201307</td>\n      <td>1000</td>\n      <td>OKLAHOMA STATE UNIVERSITY</td>\n      <td>Mason</td>\n      <td>C</td>\n      <td>ROOM CHARGES</td>\n      <td>368.96</td>\n      <td>SHERATON HOTEL</td>\n      <td>7/30/2013 0:00</td>\n      <td>7/31/2013 0:00</td>\n      <td>SHERATON</td>\n    </tr>\n    <tr>\n      <th>2</th>\n      <td>201307</td>\n      <td>1000</td>\n      <td>OKLAHOMA STATE UNIVERSITY</td>\n      <td>Massey</td>\n      <td>J</td>\n      <td>GENERAL PURCHASE</td>\n      <td>165.82</td>\n      <td>SEARS.COM 9300</td>\n      <td>7/29/2013 0:00</td>\n      <td>7/31/2013 0:00</td>\n      <td>DIRCT MARKETING/DIRCT MARKETERS--NOT ELSEWHERE...</td>\n    </tr>\n    <tr>\n      <th>3</th>\n      <td>201307</td>\n      <td>1000</td>\n      <td>OKLAHOMA STATE UNIVERSITY</td>\n      <td>Massey</td>\n      <td>T</td>\n      <td>GENERAL PURCHASE</td>\n      <td>96.39</td>\n      <td>WAL-MART #0137</td>\n      <td>7/30/2013 0:00</td>\n      <td>7/31/2013 0:00</td>\n      <td>GROCERY STORES,AND SUPERMARKETS</td>\n    </tr>\n    <tr>\n      <th>4</th>\n      <td>201307</td>\n      <td>1000</td>\n      <td>OKLAHOMA STATE UNIVERSITY</td>\n      <td>Mauro-Herrera</td>\n      <td>M</td>\n      <td>HAMMERMILL COPY PLUS COPY EA</td>\n      <td>125.96</td>\n      <td>STAPLES DIRECT</td>\n      <td>7/30/2013 0:00</td>\n      <td>7/31/2013 0:00</td>\n      <td>STATIONERY, OFFICE SUPPLIES, PRINTING AND WRIT...</td>\n    </tr>\n    <tr>\n      <th>...</th>\n      <td>...</td>\n      <td>...</td>\n      <td>...</td>\n      <td>...</td>\n      <td>...</td>\n      <td>...</td>\n      <td>...</td>\n      <td>...</td>\n      <td>...</td>\n      <td>...</td>\n      <td>...</td>\n    </tr>\n    <tr>\n      <th>442452</th>\n      <td>201406</td>\n      <td>98000</td>\n      <td>GRAND RIVER DAM AUTH.</td>\n      <td>Cardholder</td>\n      <td>e</td>\n      <td>GENERAL PURCHASE</td>\n      <td>992</td>\n      <td>TOTAL VALVE SYSTEMS</td>\n      <td>6/20/2014 0:00</td>\n      <td>6/23/2014 0:00</td>\n      <td>HARDWARE EQUIPMENT AND SUPPLIES</td>\n    </tr>\n    <tr>\n      <th>442453</th>\n      <td>201406</td>\n      <td>98000</td>\n      <td>GRAND RIVER DAM AUTH.</td>\n      <td>Cardholder</td>\n      <td>e</td>\n      <td>GENERAL PURCHASE</td>\n      <td>2415</td>\n      <td>PRYOR WASTE &amp; RECYCLING L</td>\n      <td>6/20/2014 0:00</td>\n      <td>6/23/2014 0:00</td>\n      <td>UTILITIES - ELECTRIC,GAS,WATER,SANITARY</td>\n    </tr>\n    <tr>\n      <th>442454</th>\n      <td>201406</td>\n      <td>98000</td>\n      <td>GRAND RIVER DAM AUTH.</td>\n      <td>Cardholder</td>\n      <td>e</td>\n      <td>GENERAL PURCHASE</td>\n      <td>177.5</td>\n      <td>ACCURATE ENVIROMENTAL LAB</td>\n      <td>6/20/2014 0:00</td>\n      <td>6/23/2014 0:00</td>\n      <td>BUSINESS SERVICES NOT ELSEWHERE CLASSIFIED</td>\n    </tr>\n    <tr>\n      <th>442455</th>\n      <td>201406</td>\n      <td>98000</td>\n      <td>GRAND RIVER DAM AUTH.</td>\n      <td>Cardholder</td>\n      <td>e</td>\n      <td>GENERAL PURCHASE</td>\n      <td>32457</td>\n      <td>RED BUD SERVICE INC</td>\n      <td>6/19/2014 0:00</td>\n      <td>6/23/2014 0:00</td>\n      <td>PROFESSIONAL SERVICES NOT ELSEWHERE CLASSIFIED</td>\n    </tr>\n    <tr>\n      <th>442456</th>\n      <td>201406</td>\n      <td>98000</td>\n      <td>GRAND RIVER DAM AUTH.</td>\n      <td>Cardholder</td>\n      <td>e</td>\n      <td>GENERAL PURCHASE</td>\n      <td>4714.07</td>\n      <td>WARRENCAT CREDIT DEPT</td>\n      <td>6/20/2014 0:00</td>\n      <td>6/23/2014 0:00</td>\n      <td>MISCELLANEOUS AND SPECIALTY RETAIL STORES</td>\n    </tr>\n  </tbody>\n</table>\n<p>442457 rows × 11 columns</p>\n</div>"
     },
     "metadata": {},
     "execution_count": 14
    }
   ],
   "source": [
    "df"
   ]
  },
  {
   "cell_type": "code",
   "execution_count": 16,
   "metadata": {},
   "outputs": [],
   "source": [
    "df['Amount'] = df['Amount'].str.replace(',', '')\n",
    "df['Amount'] = df['Amount'].str.replace('(', '')\n",
    "df['Amount'] = df['Amount'].str.replace(')', '')\n",
    "df['Amount'] = df['Amount'].str.replace('$', '')"
   ]
  },
  {
   "cell_type": "code",
   "execution_count": 18,
   "metadata": {},
   "outputs": [],
   "source": [
    "df['Amount'] = df['Amount'].str.extract('(\\d+)', expand=False)"
   ]
  },
  {
   "cell_type": "code",
   "execution_count": 19,
   "metadata": {},
   "outputs": [],
   "source": [
    "df['Amount'] = df['Amount'].astype(float)"
   ]
  },
  {
   "cell_type": "code",
   "execution_count": 20,
   "metadata": {},
   "outputs": [
    {
     "output_type": "execute_result",
     "data": {
      "text/plain": "19813775.0"
     },
     "metadata": {},
     "execution_count": 20
    }
   ],
   "source": [
    "df['Amount'].sum()"
   ]
  },
  {
   "cell_type": "code",
   "execution_count": 22,
   "metadata": {},
   "outputs": [
    {
     "output_type": "execute_result",
     "data": {
      "text/plain": "191785.0"
     },
     "metadata": {},
     "execution_count": 22
    }
   ],
   "source": [
    "df.loc[df['Vendor'] == 'WW GRAINGER']['Amount'].sum()"
   ]
  },
  {
   "cell_type": "code",
   "execution_count": 23,
   "metadata": {},
   "outputs": [
    {
     "output_type": "execute_result",
     "data": {
      "text/plain": "0.0"
     },
     "metadata": {},
     "execution_count": 23
    }
   ],
   "source": [
    "df.loc[df['Vendor'] == 'WM SUPERCENTER']['Amount'].sum()"
   ]
  },
  {
   "cell_type": "code",
   "execution_count": 24,
   "metadata": {},
   "outputs": [
    {
     "output_type": "execute_result",
     "data": {
      "text/plain": "0.0"
     },
     "metadata": {},
     "execution_count": 24
    }
   ],
   "source": [
    "df.loc[df['Vendor'] == 'GROCERY STORES']['Amount'].sum()"
   ]
  },
  {
   "cell_type": "code",
   "execution_count": 25,
   "metadata": {},
   "outputs": [
    {
     "output_type": "error",
     "ename": "KeyError",
     "evalue": "'Amount'",
     "traceback": [
      "\u001b[1;31m---------------------------------------------------------------------------\u001b[0m",
      "\u001b[1;31mKeyError\u001b[0m                                  Traceback (most recent call last)",
      "\u001b[1;32m<ipython-input-25-311f77cb292f>\u001b[0m in \u001b[0;36m<module>\u001b[1;34m\u001b[0m\n\u001b[0;32m      3\u001b[0m \u001b[1;31m# Clean the data\u001b[0m\u001b[1;33m\u001b[0m\u001b[1;33m\u001b[0m\u001b[1;33m\u001b[0m\u001b[0m\n\u001b[0;32m      4\u001b[0m \u001b[0mpurchase_df\u001b[0m \u001b[1;33m=\u001b[0m \u001b[0mpurchase_df\u001b[0m\u001b[1;33m[\u001b[0m\u001b[1;34m'Amount'\u001b[0m\u001b[1;33m]\u001b[0m\u001b[1;33m.\u001b[0m\u001b[0mastype\u001b[0m\u001b[1;33m(\u001b[0m\u001b[0mstr\u001b[0m\u001b[1;33m)\u001b[0m\u001b[1;33m\u001b[0m\u001b[1;33m\u001b[0m\u001b[0m\n\u001b[1;32m----> 5\u001b[1;33m \u001b[0mpurchase_df\u001b[0m\u001b[1;33m[\u001b[0m\u001b[1;34m'Amount'\u001b[0m\u001b[1;33m]\u001b[0m \u001b[1;33m=\u001b[0m \u001b[0mpurchase_df\u001b[0m\u001b[1;33m[\u001b[0m\u001b[1;34m'Amount'\u001b[0m\u001b[1;33m]\u001b[0m\u001b[1;33m.\u001b[0m\u001b[0mstr\u001b[0m\u001b[1;33m.\u001b[0m\u001b[0mextract\u001b[0m\u001b[1;33m(\u001b[0m\u001b[1;34m'(\\d+)'\u001b[0m\u001b[1;33m,\u001b[0m \u001b[0mexpand\u001b[0m\u001b[1;33m=\u001b[0m\u001b[1;32mFalse\u001b[0m\u001b[1;33m)\u001b[0m\u001b[1;33m\u001b[0m\u001b[1;33m\u001b[0m\u001b[0m\n\u001b[0m\u001b[0;32m      6\u001b[0m \u001b[1;33m\u001b[0m\u001b[0m\n\u001b[0;32m      7\u001b[0m \u001b[0mpurchase_df\u001b[0m \u001b[1;33m=\u001b[0m \u001b[0mpurchase_df\u001b[0m\u001b[1;33m.\u001b[0m\u001b[0mmap\u001b[0m\u001b[1;33m(\u001b[0m\u001b[1;32mlambda\u001b[0m \u001b[0mx\u001b[0m\u001b[1;33m:\u001b[0m \u001b[0mx\u001b[0m\u001b[1;33m.\u001b[0m\u001b[0mreplace\u001b[0m\u001b[1;33m(\u001b[0m\u001b[1;34m'('\u001b[0m\u001b[1;33m,\u001b[0m \u001b[1;34m'-'\u001b[0m\u001b[1;33m)\u001b[0m\u001b[1;33m.\u001b[0m\u001b[0mreplace\u001b[0m\u001b[1;33m(\u001b[0m\u001b[1;34m'$'\u001b[0m\u001b[1;33m,\u001b[0m \u001b[1;34m''\u001b[0m\u001b[1;33m)\u001b[0m\u001b[1;33m)\u001b[0m\u001b[1;33m\u001b[0m\u001b[1;33m\u001b[0m\u001b[0m\n",
      "\u001b[1;32m~\\AppData\\Local\\Programs\\Python\\Python37\\lib\\site-packages\\pandas\\core\\series.py\u001b[0m in \u001b[0;36m__getitem__\u001b[1;34m(self, key)\u001b[0m\n\u001b[0;32m   1069\u001b[0m         \u001b[0mkey\u001b[0m \u001b[1;33m=\u001b[0m \u001b[0mcom\u001b[0m\u001b[1;33m.\u001b[0m\u001b[0mapply_if_callable\u001b[0m\u001b[1;33m(\u001b[0m\u001b[0mkey\u001b[0m\u001b[1;33m,\u001b[0m \u001b[0mself\u001b[0m\u001b[1;33m)\u001b[0m\u001b[1;33m\u001b[0m\u001b[1;33m\u001b[0m\u001b[0m\n\u001b[0;32m   1070\u001b[0m         \u001b[1;32mtry\u001b[0m\u001b[1;33m:\u001b[0m\u001b[1;33m\u001b[0m\u001b[1;33m\u001b[0m\u001b[0m\n\u001b[1;32m-> 1071\u001b[1;33m             \u001b[0mresult\u001b[0m \u001b[1;33m=\u001b[0m \u001b[0mself\u001b[0m\u001b[1;33m.\u001b[0m\u001b[0mindex\u001b[0m\u001b[1;33m.\u001b[0m\u001b[0mget_value\u001b[0m\u001b[1;33m(\u001b[0m\u001b[0mself\u001b[0m\u001b[1;33m,\u001b[0m \u001b[0mkey\u001b[0m\u001b[1;33m)\u001b[0m\u001b[1;33m\u001b[0m\u001b[1;33m\u001b[0m\u001b[0m\n\u001b[0m\u001b[0;32m   1072\u001b[0m \u001b[1;33m\u001b[0m\u001b[0m\n\u001b[0;32m   1073\u001b[0m             \u001b[1;32mif\u001b[0m \u001b[1;32mnot\u001b[0m \u001b[0mis_scalar\u001b[0m\u001b[1;33m(\u001b[0m\u001b[0mresult\u001b[0m\u001b[1;33m)\u001b[0m\u001b[1;33m:\u001b[0m\u001b[1;33m\u001b[0m\u001b[1;33m\u001b[0m\u001b[0m\n",
      "\u001b[1;32m~\\AppData\\Local\\Programs\\Python\\Python37\\lib\\site-packages\\pandas\\core\\indexes\\base.py\u001b[0m in \u001b[0;36mget_value\u001b[1;34m(self, series, key)\u001b[0m\n\u001b[0;32m   4728\u001b[0m         \u001b[0mk\u001b[0m \u001b[1;33m=\u001b[0m \u001b[0mself\u001b[0m\u001b[1;33m.\u001b[0m\u001b[0m_convert_scalar_indexer\u001b[0m\u001b[1;33m(\u001b[0m\u001b[0mk\u001b[0m\u001b[1;33m,\u001b[0m \u001b[0mkind\u001b[0m\u001b[1;33m=\u001b[0m\u001b[1;34m\"getitem\"\u001b[0m\u001b[1;33m)\u001b[0m\u001b[1;33m\u001b[0m\u001b[1;33m\u001b[0m\u001b[0m\n\u001b[0;32m   4729\u001b[0m         \u001b[1;32mtry\u001b[0m\u001b[1;33m:\u001b[0m\u001b[1;33m\u001b[0m\u001b[1;33m\u001b[0m\u001b[0m\n\u001b[1;32m-> 4730\u001b[1;33m             \u001b[1;32mreturn\u001b[0m \u001b[0mself\u001b[0m\u001b[1;33m.\u001b[0m\u001b[0m_engine\u001b[0m\u001b[1;33m.\u001b[0m\u001b[0mget_value\u001b[0m\u001b[1;33m(\u001b[0m\u001b[0ms\u001b[0m\u001b[1;33m,\u001b[0m \u001b[0mk\u001b[0m\u001b[1;33m,\u001b[0m \u001b[0mtz\u001b[0m\u001b[1;33m=\u001b[0m\u001b[0mgetattr\u001b[0m\u001b[1;33m(\u001b[0m\u001b[0mseries\u001b[0m\u001b[1;33m.\u001b[0m\u001b[0mdtype\u001b[0m\u001b[1;33m,\u001b[0m \u001b[1;34m\"tz\"\u001b[0m\u001b[1;33m,\u001b[0m \u001b[1;32mNone\u001b[0m\u001b[1;33m)\u001b[0m\u001b[1;33m)\u001b[0m\u001b[1;33m\u001b[0m\u001b[1;33m\u001b[0m\u001b[0m\n\u001b[0m\u001b[0;32m   4731\u001b[0m         \u001b[1;32mexcept\u001b[0m \u001b[0mKeyError\u001b[0m \u001b[1;32mas\u001b[0m \u001b[0me1\u001b[0m\u001b[1;33m:\u001b[0m\u001b[1;33m\u001b[0m\u001b[1;33m\u001b[0m\u001b[0m\n\u001b[0;32m   4732\u001b[0m             \u001b[1;32mif\u001b[0m \u001b[0mlen\u001b[0m\u001b[1;33m(\u001b[0m\u001b[0mself\u001b[0m\u001b[1;33m)\u001b[0m \u001b[1;33m>\u001b[0m \u001b[1;36m0\u001b[0m \u001b[1;32mand\u001b[0m \u001b[1;33m(\u001b[0m\u001b[0mself\u001b[0m\u001b[1;33m.\u001b[0m\u001b[0mholds_integer\u001b[0m\u001b[1;33m(\u001b[0m\u001b[1;33m)\u001b[0m \u001b[1;32mor\u001b[0m \u001b[0mself\u001b[0m\u001b[1;33m.\u001b[0m\u001b[0mis_boolean\u001b[0m\u001b[1;33m(\u001b[0m\u001b[1;33m)\u001b[0m\u001b[1;33m)\u001b[0m\u001b[1;33m:\u001b[0m\u001b[1;33m\u001b[0m\u001b[1;33m\u001b[0m\u001b[0m\n",
      "\u001b[1;32mpandas/_libs/index.pyx\u001b[0m in \u001b[0;36mpandas._libs.index.IndexEngine.get_value\u001b[1;34m()\u001b[0m\n",
      "\u001b[1;32mpandas/_libs/index.pyx\u001b[0m in \u001b[0;36mpandas._libs.index.IndexEngine.get_value\u001b[1;34m()\u001b[0m\n",
      "\u001b[1;32mpandas/_libs/index.pyx\u001b[0m in \u001b[0;36mpandas._libs.index.IndexEngine.get_loc\u001b[1;34m()\u001b[0m\n",
      "\u001b[1;32mpandas/_libs/index_class_helper.pxi\u001b[0m in \u001b[0;36mpandas._libs.index.Int64Engine._check_type\u001b[1;34m()\u001b[0m\n",
      "\u001b[1;31mKeyError\u001b[0m: 'Amount'"
     ]
    }
   ],
   "source": [
    "purchase_df = pd.DataFrame(pd.read_csv('res_purchase_2014.csv'))\n",
    "\n",
    "# Clean the data\n",
    "purchase_df = purchase_df['Amount'].astype(str)\n",
    "purchase_df['Amount'] = purchase_df['Amount'].str.extract('(\\d+)', expand=False)\n",
    "\n",
    "# purchase_df = purchase_df.map(lambda x: x.replace('(', '-').replace('$', ''))\n",
    "purchase_df = purchase_df.astype(float)"
   ]
  }
 ]
}